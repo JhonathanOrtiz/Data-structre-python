{
  "nbformat": 4,
  "nbformat_minor": 0,
  "metadata": {
    "colab": {
      "name": "DataStructure-Intro.ipynb",
      "provenance": [],
      "authorship_tag": "ABX9TyORv8PUPvHiNS8e/1+vVYUv",
      "include_colab_link": true
    },
    "kernelspec": {
      "name": "python3",
      "display_name": "Python 3"
    }
  },
  "cells": [
    {
      "cell_type": "markdown",
      "metadata": {
        "id": "view-in-github",
        "colab_type": "text"
      },
      "source": [
        "<a href=\"https://colab.research.google.com/github/JhonathanOrtiz/Data-structre-python/blob/master/DataStructure_Intro.ipynb\" target=\"_parent\"><img src=\"https://colab.research.google.com/assets/colab-badge.svg\" alt=\"Open In Colab\"/></a>"
      ]
    },
    {
      "cell_type": "markdown",
      "metadata": {
        "id": "B2LGqJflvSy2",
        "colab_type": "text"
      },
      "source": [
        "\n",
        "\n",
        "> # <strong>Data Structure</strong>\n",
        "\n",
        "Empecemos por concer la importancia de estudiar estructuras de datos y daré un ejemplo para ello. Imagina que el orden de los diccionario no fuese alfabético sino aleatorio... Seria un desastre ¿Cierto? casi imposible encontrar alguna palabra, diccionario es una estructura de datos donde los datos son las palabras y tienen un orden alfábetico para que sea de fácil acceso. \n",
        "En Machine learning trabajamos con una cantindad absurda de datos y por tal motivido necesitamos almacenarlos (Diccionario) y ordernarlos (Orden alfabético) Para ello tenemos varias estructuras que podemos usar dependiendo el problema que estamos atacando.\n",
        "\n",
        "![](https://miro.medium.com/max/700/1*Ut55XNszCQPxCG9qaEQfAw.png)\n",
        "\n",
        "\n",
        "\n"
      ]
    },
    {
      "cell_type": "markdown",
      "metadata": {
        "id": "lIUBfs50xtDB",
        "colab_type": "text"
      },
      "source": [
        "<h2>Listas</h2>\n",
        "\n",
        "Las listas son el primer tipo de esctructuras de datos que vamos a analzar. Al trabajar con datos lo primero que necesitamos es un contenedor que nos permita almacernar distintos datos de distintas naturalezas. Las listas son arrays unidimensionales que nos permiten realizar las siguientes opeaciones.\n",
        "\n",
        "* Crear una lista vacia. \n",
        "* Añadir elementos al inicio o al final de la misma.\n",
        "* Insertar un valor en cualquier posicion de la lista. \n",
        "* Acceder al cualquier valor mediante su índice o acceder al indice de un elemento.\n",
        "* Borrar elementos.\n",
        "* Ordenar la lista en orden inverso\n",
        "\n",
        "Veamos algunos ejemplos.\n"
      ]
    },
    {
      "cell_type": "code",
      "metadata": {
        "id": "DfQwBR_csh8F",
        "colab_type": "code",
        "colab": {
          "base_uri": "https://localhost:8080/",
          "height": 294
        },
        "outputId": "07193d8f-c41d-4902-e471-c49cbf95f4ab"
      },
      "source": [
        "#Crea una lista vacia\n",
        "\n",
        "lista_1 = []\n",
        "\n",
        "x = 'Hola mundo'\n",
        "y = 3\n",
        "z = 2.5\n",
        "\n",
        "#Añadir elementos, el metodo append añade un elemento al final de la lista\n",
        "lista_1.append(x)\n",
        "lista_1.append(y)\n",
        "lista_1.append(z)\n",
        "print('Lista_1: ' + str(lista_1))\n",
        "\n",
        "#Acceder por el indice\n",
        "print('')\n",
        "print('Primer elemento de la lista: ' + str(lista_1[0]))\n",
        "\n",
        "#Incluso acceder a varios elementos (Slicing)\n",
        "print('')\n",
        "print('Slicing: '+str(lista_1[1:]))\n",
        "\n",
        "#Conatenar dos lista\n",
        "lista_2 = [1, 'Hola', 1.4]\n",
        "lista_1.extend(lista_2)\n",
        "print('')\n",
        "print('Listas concatenadas: '+str(lista_1))\n",
        "\n",
        "#Remover algun elemento\n",
        "lista_1.remove('Hola') #Si hay varios elementos iguales solo remueve el primero \n",
        "print('')\n",
        "print('Elemento Hola removido: ', lista_1)\n",
        "\n",
        "#Y lo mejor de las listas es que son iterables\n",
        "print('')\n",
        "for i, j in enumerate(lista_1):\n",
        "  print('Iteracion: {}, Objeto: {}'.format(i, j))"
      ],
      "execution_count": 17,
      "outputs": [
        {
          "output_type": "stream",
          "text": [
            "Lista_1: ['Hola mundo', 3, 2.5]\n",
            "\n",
            "Primer elemento de la lista: Hola mundo\n",
            "\n",
            "Slicing: [3, 2.5]\n",
            "\n",
            "Listas concatenadas: ['Hola mundo', 3, 2.5, 1, 'Hola', 1.4]\n",
            "\n",
            "Elemento Hola removido:  ['Hola mundo', 3, 2.5, 1, 1.4]\n",
            "\n",
            "Iteracion: 0, Objeto: Hola mundo\n",
            "Iteracion: 1, Objeto: 3\n",
            "Iteracion: 2, Objeto: 2.5\n",
            "Iteracion: 3, Objeto: 1\n",
            "Iteracion: 4, Objeto: 1.4\n"
          ],
          "name": "stdout"
        }
      ]
    },
    {
      "cell_type": "markdown",
      "metadata": {
        "id": "IdH0lMA03utD",
        "colab_type": "text"
      },
      "source": [
        "Las listas son geniales y estos no son los unicos métodos que puedes utilizar `dir(list)` si ejecutas ese comando podras ver todos los métodos que se pueden utilizar y con `help(list.metodo)` podrás ver la documentación del método que elijas.\n",
        "\n",
        "Ahora empiezan las malas noticias Data Structure no es solo de organizar datos sino tambien que esa organización sea eficiente en terminos de espacio y tiempo a esos campos del Computer Science se les conoce como `Time Complexity` (Tiempo que le toma a un algoritmo ejecutarse) `Space Complexity` la memoria que requeiere nuestro algoritmo. En ésta oportunidad no hablaré en profundidad de ello pero es importante conocer esos términos."
      ]
    },
    {
      "cell_type": "markdown",
      "metadata": {
        "id": "5gPKqPDq6GBF",
        "colab_type": "text"
      },
      "source": [
        "Imaginemos el siguiente caso `List[4]` Ese código reserva cuatro bloques que cuatro bytes contiguos para almacenar los numeros que alli almacenaremos. ¿Y si la lista está llena y queremos utilizar el método append? Pues podríamos crear una otra lista con el doble de tamaño `List[8]` y copiar los elementos de la lista anterior. ¿Un poco atropellado no?\n",
        "\n",
        "Ahora y si queremos insertar un elemento en el medio de la lista, pues para ello deberiamos recorrer la lista hasta llegar al lugar donde queremos insertar los elementos y rodar los elementos restantes uno por uno hacia la derecha, del mismo modo si queremos remover un elemento, pues tendríamos que eliminar el elemento y rodar cada elementos hacia la derecha."
      ]
    },
    {
      "cell_type": "markdown",
      "metadata": {
        "id": "4fBDtvmh-FNL",
        "colab_type": "text"
      },
      "source": [
        "Las listas aunque son un método muy utilizado tambien es un método costosos computacionalmente y para trabajar con ellas hay que tener cuidado. "
      ]
    },
    {
      "cell_type": "markdown",
      "metadata": {
        "id": "UDdcnmzI-bfy",
        "colab_type": "text"
      },
      "source": [
        "<h2>Linked List</h2>\n",
        "\n",
        "Para ayudarnos a resolver un poco el problema del costo computacional están Listas enlazadas, se llaman así porque al crear una de estas listas cada elemento es independiente del otro, en pocas palabras, no tenemos una caja donde vamos almacenar objetos. Para crear los enlaces debemos introducir el concepto de `Puntero` un puntero es simplemente una variable que te dice la dirección de otra variable.\n",
        "\n",
        "![](https://media.geeksforgeeks.org/wp-content/cdn-uploads/gq/2013/03/Linkedlist.png)\n",
        "\n",
        "En la imagen `A` es nuestra variable principal mientras que `Next` es nuestro puntero es decir la variable `A` tiene consigo un puntero que apunta a la dirección del siguiente elemento en la lista y así sucesivamente. Las listas enlazadas tienen los siguientes elementos.\n",
        "\n",
        "* Nodo: Objeto que almacena una variable y el puntero de dicha variable\n",
        "* Head: Primer nodo de la lista\n",
        "* None: None será el puntero de nuestro ultimo objeto en la lista.\n",
        "\n",
        "Ahora veamos como se ve ésto en código."
      ]
    },
    {
      "cell_type": "code",
      "metadata": {
        "id": "6Z58dHtwBF7z",
        "colab_type": "code",
        "colab": {
          "base_uri": "https://localhost:8080/",
          "height": 35
        },
        "outputId": "ae4cb1a1-c88b-4d6e-bc64-10eee51b123b"
      },
      "source": [
        "#Creamos nuestra clase nodo\n",
        "class Node:\n",
        "  def __init__(self, data=None, next=None):\n",
        "    self.data = data\n",
        "    self.next = next\n",
        "\n",
        "  def print_node(self):\n",
        "    print('Nodo Actual: {} Proximo Nodo: {} '.format(self.data, self.next))\n",
        "\n",
        "nodo = Node(1, 4)\n",
        "nodo.print_node()"
      ],
      "execution_count": 89,
      "outputs": [
        {
          "output_type": "stream",
          "text": [
            "Nodo Actual: 1 Proximo Nodo: 4 \n"
          ],
          "name": "stdout"
        }
      ]
    },
    {
      "cell_type": "markdown",
      "metadata": {
        "id": "JrzEz7ZfDr0r",
        "colab_type": "text"
      },
      "source": [
        "De esta forma podemos crear cuantos nodos nos apetezcan, ahora hagamos algo mas divertido y creemos la clase para Linked List"
      ]
    },
    {
      "cell_type": "code",
      "metadata": {
        "id": "VXyJeh83D5aX",
        "colab_type": "code",
        "colab": {
          "base_uri": "https://localhost:8080/",
          "height": 72
        },
        "outputId": "4f720196-2ac6-4bd0-a1a5-b85b2c3d9912"
      },
      "source": [
        "class LinkedList:\n",
        "  def __init__(self):\n",
        "    self.head = None\n",
        "  \n",
        "  def print_list(self):\n",
        "      node = self.head\n",
        "      while node:\n",
        "        print(node.data)\n",
        "        node = node.next\n",
        "\n",
        "#Crear la lista\n",
        "linked_list = LinkedList()\n",
        "\n",
        "x = 1\n",
        "y = 2\n",
        "z = 3\n",
        "\n",
        "#Crear nodos\n",
        "node_1 = Node(x)\n",
        "node_2 = Node(y)\n",
        "node_3 = Node(z)\n",
        "\n",
        "#Enlazar nodos\n",
        "node_1.next = node_2\n",
        "node_2.next = node_3\n",
        "\n",
        "linked_list.head = node_1\n",
        "linked_list.print_list()"
      ],
      "execution_count": 42,
      "outputs": [
        {
          "output_type": "stream",
          "text": [
            "1\n",
            "2\n",
            "3\n"
          ],
          "name": "stdout"
        }
      ]
    },
    {
      "cell_type": "markdown",
      "metadata": {
        "id": "bU5x4rOfLo4A",
        "colab_type": "text"
      },
      "source": [
        "Muy bien hemos creado la primera lista enlazada ¡FUNCIONA! sin embargo todo esto nos lleva a realizarlo de una manera mas limpia y agregar los metodos de las listas tipo array.\n",
        "\n",
        "* Agregar Elemento\n",
        "* Borrar elementos\n",
        "* iterar la lista\n",
        "* Añadir a la lista en un indice dado\n",
        " \n",
        " Entre otros.. "
      ]
    },
    {
      "cell_type": "code",
      "metadata": {
        "id": "SoReUjNNFYjG",
        "colab_type": "code",
        "colab": {}
      },
      "source": [
        "class Node:\n",
        "  def __init__(self, data=None, next=None):\n",
        "    self.data = data\n",
        "    self.next = next\n",
        "\n",
        "  def __repr__(self):\n",
        "    return str(self.data)"
      ],
      "execution_count": 91,
      "outputs": []
    },
    {
      "cell_type": "code",
      "metadata": {
        "id": "3ADdoW-BMrkk",
        "colab_type": "code",
        "colab": {}
      },
      "source": [
        "class LinkedList:\n",
        "  def __init__(self, values=None):\n",
        "   #Values: Lista o tupla de elementos\n",
        "   self.head = None\n",
        "\n",
        "   if values:\n",
        "    node = Node(values.pop(0))\n",
        "    self.head = node\n",
        "\n",
        "   for elem in values:\n",
        "     node.next = Node(elem)\n",
        "     node = node.next\n",
        "\n",
        "#Hagamos la lista iterable\n",
        "  def __iter__(self):\n",
        "    node = self.head\n",
        "    while node:\n",
        "      yield node\n",
        "      node = node.next\n",
        "  \n",
        "# Hagalmos la lista imprimible\n",
        "  def __repr__(self):\n",
        "    node = self.head\n",
        "    nodes = []\n",
        "    while node:\n",
        "      nodes.append(str(node))\n",
        "      node = node.next\n",
        "    nodes.append('None')\n",
        "    return ' -> '.join(nodes)\n",
        "\n",
        "# Agregar elemento al final de la lista\n",
        "  def add_end(self, value):\n",
        "    node = Node(value)\n",
        "    if self.head:\n",
        "      for current_node in self:\n",
        "        pass\n",
        "      current_node.next = node\n",
        "    else:\n",
        "      self.head = node\n",
        "#Agregar un elemento al principi\n",
        "  def add_init(self, value):\n",
        "    node = Node(value)\n",
        "    if self.head:\n",
        "      node.next = self.head\n",
        "      self.head = node\n",
        "    \n",
        "\n",
        "#Insertar elemento entre dos nodos \n",
        "  def insert_between(self, after, before, value):\n",
        "    if self.head == None:\n",
        "      raise Exception('List is empty. Try with add_end or add_init method')\n",
        "    new_node = Node(value)\n",
        "    count = 0\n",
        "\n",
        "    for node in self:\n",
        "      if node.data == after and node.next:\n",
        "        new_next = node.next\n",
        "        node.next = new_node\n",
        "        new_node.next = new_next\n",
        "\n",
        "  def add(self, linked_list):\n",
        "    for node in self:\n",
        "      pass\n",
        "    node.next = linked_list.head"
      ],
      "execution_count": 114,
      "outputs": []
    },
    {
      "cell_type": "markdown",
      "metadata": {
        "id": "Zt3F_t7xY1_F",
        "colab_type": "text"
      },
      "source": [
        "\n",
        "\n",
        "># <strong>¡A PROBAR!</strong>\n",
        "\n"
      ]
    },
    {
      "cell_type": "code",
      "metadata": {
        "id": "fhUVVjgTQATq",
        "colab_type": "code",
        "colab": {
          "base_uri": "https://localhost:8080/",
          "height": 35
        },
        "outputId": "2d74475e-1dd7-4e9c-b3ec-bb1d6029c391"
      },
      "source": [
        "#Crear una lista\n",
        "linked_list = LinkedList([1, 4, 'a'])\n",
        "linked_list"
      ],
      "execution_count": 115,
      "outputs": [
        {
          "output_type": "execute_result",
          "data": {
            "text/plain": [
              "1 -> 4 -> a -> None"
            ]
          },
          "metadata": {
            "tags": []
          },
          "execution_count": 115
        }
      ]
    },
    {
      "cell_type": "code",
      "metadata": {
        "id": "9R4JE9YTQhbP",
        "colab_type": "code",
        "colab": {
          "base_uri": "https://localhost:8080/",
          "height": 72
        },
        "outputId": "2472ec9d-eb6e-4ad5-dfa8-be620a7b27bf"
      },
      "source": [
        "#Iterar la lista\n",
        "for i in linked_list:\n",
        "  print(i)"
      ],
      "execution_count": 116,
      "outputs": [
        {
          "output_type": "stream",
          "text": [
            "1\n",
            "4\n",
            "a\n"
          ],
          "name": "stdout"
        }
      ]
    },
    {
      "cell_type": "code",
      "metadata": {
        "id": "1hHNan1UQpKt",
        "colab_type": "code",
        "colab": {
          "base_uri": "https://localhost:8080/",
          "height": 35
        },
        "outputId": "3f6d3331-5e98-417f-b40d-5c9619077b31"
      },
      "source": [
        "#Añadir elemento al incio\n",
        "linked_list.add_init('c')\n",
        "print(linked_list)"
      ],
      "execution_count": 117,
      "outputs": [
        {
          "output_type": "stream",
          "text": [
            "c -> 1 -> 4 -> a -> None\n"
          ],
          "name": "stdout"
        }
      ]
    },
    {
      "cell_type": "code",
      "metadata": {
        "id": "lwkqrt3yVt-M",
        "colab_type": "code",
        "colab": {
          "base_uri": "https://localhost:8080/",
          "height": 35
        },
        "outputId": "724d1913-afbb-47b3-968c-11012ae5173f"
      },
      "source": [
        "#Anadir elemento al final\n",
        "linked_list.add_end('Hola')\n",
        "print(linked_list)"
      ],
      "execution_count": 118,
      "outputs": [
        {
          "output_type": "stream",
          "text": [
            "c -> 1 -> 4 -> a -> Hola -> None\n"
          ],
          "name": "stdout"
        }
      ]
    },
    {
      "cell_type": "code",
      "metadata": {
        "id": "bwOIKB62V4Rx",
        "colab_type": "code",
        "colab": {
          "base_uri": "https://localhost:8080/",
          "height": 35
        },
        "outputId": "223b52e1-d089-45b9-b66d-c47fb3f76d57"
      },
      "source": [
        "#Añadir entre dos elementos\n",
        "linked_list.insert_between(4, 'a', 'between')\n",
        "linked_list"
      ],
      "execution_count": 119,
      "outputs": [
        {
          "output_type": "execute_result",
          "data": {
            "text/plain": [
              "c -> 1 -> 4 -> between -> a -> Hola -> None"
            ]
          },
          "metadata": {
            "tags": []
          },
          "execution_count": 119
        }
      ]
    },
    {
      "cell_type": "code",
      "metadata": {
        "id": "UDxpuQSEbFGF",
        "colab_type": "code",
        "colab": {
          "base_uri": "https://localhost:8080/",
          "height": 35
        },
        "outputId": "0d3560c7-1d4a-45ba-f4b1-f1141ad1585b"
      },
      "source": [
        "#Concatenar dos linked_list\n",
        "linked_list_1 = LinkedList(['Hello', 'World'])\n",
        "linked_list.add(linked_list_1)\n",
        "linked_list"
      ],
      "execution_count": 120,
      "outputs": [
        {
          "output_type": "execute_result",
          "data": {
            "text/plain": [
              "c -> 1 -> 4 -> between -> a -> Hola -> Hello -> World -> None"
            ]
          },
          "metadata": {
            "tags": []
          },
          "execution_count": 120
        }
      ]
    },
    {
      "cell_type": "markdown",
      "metadata": {
        "id": "NY0HKOv2cu73",
        "colab_type": "text"
      },
      "source": [
        "\n",
        "\n",
        "> # <strong> Time Complexity</strong>\n",
        "\n",
        "En resumidas cuentas queremos que nuestros algoritmos sean eficiones y cuando hablamos de tiempo nos referimos a èsto, hay una notación especial para representar el tiempo que le toma a un algoritmo ejecutarse, que se llama `Big-O` notation, bueno en realidad, hay otras dos notaciones pero ésta es la mas popular y básicamente nos dice la complejidad del tiempo en función del tamaño de la entrada entrada. En estos casos como no podemos saber realmente el tamaño de la entrada entonces ésta notación nos dice el `Worst Case` es decir en el peor de los casos. Veaamos una imagen.\n",
        "\n",
        "![](https://miro.medium.com/max/700/1*5ZLci3SuR0zM_QlZOADv8Q.jpeg)\n",
        "\n",
        "Fuente de la image: http://bigocheatsheet.com/\n"
      ]
    },
    {
      "cell_type": "markdown",
      "metadata": {
        "id": "R1vcjm9OfFbR",
        "colab_type": "text"
      },
      "source": [
        "**¡NO TE ASUSTES!**\n",
        "\n",
        "¡Pensemos un poco!\n",
        "\n",
        "Sea O(n) `n` representa el tamaño de la entrada si `n = 1` Quiere decir que el tiempo de ejecución es constante, (Toma una unidad de tiempo en ejecutarse). Asignar valor a una variable, o analizar una condición."
      ]
    },
    {
      "cell_type": "markdown",
      "metadata": {
        "id": "6c4nO9XpqV6i",
        "colab_type": "text"
      },
      "source": [
        "En ese caso es conveniente pensar ésta notación como una función `f` que regresa la complejidad de tiempo que puede tomar el algoritmo en ejecutarse si quieres profundizar te dejo un artículo que da una buena explicación.\n",
        "\n",
        "https://towardsdatascience.com/understanding-time-complexity-with-python-examples-2bda6e8158a7"
      ]
    },
    {
      "cell_type": "markdown",
      "metadata": {
        "id": "it3Nl2Pub4Qb",
        "colab_type": "text"
      },
      "source": [
        "\n",
        "\n",
        "> # Conclusiones\n",
        "\n",
        "Como puedes ver podemos contruir éstas listas y hacerlas muy flexibles, de acuerdo a lo que cada uno de nosotros esta buscando. Ahora entiendes las necesidad de estududiarlos. Esta ha sido sólo la introducción de una serie, no son tutoriales sino que ésta es la forma en la que yo aprendo y es un placer compartir con todos mi la manera en la que aprendo."
      ]
    }
  ]
}