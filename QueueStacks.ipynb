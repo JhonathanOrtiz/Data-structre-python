{
  "nbformat": 4,
  "nbformat_minor": 0,
  "metadata": {
    "colab": {
      "name": "QueueStacks.ipynb",
      "provenance": [],
      "mount_file_id": "1EUXgev-YHTuFrWsTM1EJNsdNixsdukRU",
      "authorship_tag": "ABX9TyPAmAbOyH47K/qHsvekWUbt",
      "include_colab_link": true
    },
    "kernelspec": {
      "name": "python3",
      "display_name": "Python 3"
    }
  },
  "cells": [
    {
      "cell_type": "markdown",
      "metadata": {
        "id": "view-in-github",
        "colab_type": "text"
      },
      "source": [
        "<a href=\"https://colab.research.google.com/github/JhonathanOrtiz/Data-structre-python/blob/master/QueueStacks.ipynb\" target=\"_parent\"><img src=\"https://colab.research.google.com/assets/colab-badge.svg\" alt=\"Open In Colab\"/></a>"
      ]
    },
    {
      "cell_type": "markdown",
      "metadata": {
        "id": "ekBZA6Ow0sE5",
        "colab_type": "text"
      },
      "source": [
        "\n",
        "\n",
        "> # <strong>Stacks</strong>\n",
        "\n",
        "Como tipo de dato abstracto no tienen mucha diferencia a pilas de objetos, en los que tienes un conjunto de objetos, unos sobre otros y puedes sacarlos uno por uno desde el ùltimo que metiste. Por ésta razón son llamadas listas FIFO (Last in first out) es decir el último que entra es el primero que sale.\n",
        "\n",
        "\n",
        "\n"
      ]
    },
    {
      "cell_type": "markdown",
      "metadata": {
        "id": "RvvNPoJv1xOz",
        "colab_type": "text"
      },
      "source": [
        "![](data:image/jpeg;base64,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)"
      ]
    },
    {
      "cell_type": "markdown",
      "metadata": {
        "id": "N8LCLq8F11Tj",
        "colab_type": "text"
      },
      "source": [
        "A ésta estructura de datos solo son atribuibles las siguientes funciones.\n",
        "\n",
        "* Push (Insertar dato)\n",
        "* Pop  (Sacar dato)\n",
        "* isEmpty (La lista esta vacia?)\n",
        "* Top (Elemento en el tope de la lista)"
      ]
    },
    {
      "cell_type": "code",
      "metadata": {
        "id": "XIkJCbsO1mr-",
        "colab_type": "code",
        "colab": {}
      },
      "source": [
        "#Build the Stack class\n",
        "\n",
        "class Stack:\n",
        "  def __init__(self):\n",
        "    self.stack = [] #Initalize an list\n",
        "    self.top = -1 #top counter\n",
        "  \n",
        "  #Insert element on top list\n",
        "  def Push(self, data):\n",
        "    self.stack.insert(0, data)\n",
        "    self.top += 1\n",
        "    \n",
        "  #Remove element at top of list\n",
        "  def Pop(self):\n",
        "    if self.top == -1:\n",
        "      raise Exception('Stack is empty')\n",
        "    self.stack.pop(0)\n",
        "    self.top -= 1\n",
        "\n",
        "  #Return element at top of list\n",
        "  def Top(self):\n",
        "    if self.top == -1:\n",
        "      raise Exception('Stack is empty')\n",
        "    return self.stack[0]\n",
        "  #Return True if list is empty\n",
        "  def isEmpty(self):\n",
        "    if self.top == -1:\n",
        "      return True\n",
        "    else:\n",
        "      return False\n",
        "  #How many element are there in the list\n",
        "  def Len(self):\n",
        "    return self.top + 1 "
      ],
      "execution_count": 1,
      "outputs": []
    },
    {
      "cell_type": "markdown",
      "metadata": {
        "id": "Y7xEOPxSkLG3",
        "colab_type": "text"
      },
      "source": [
        "Ahora, más que conocer como implementar una estrcutura de datos es importante saber como y para que implementarlas, pues aquí tenemos la primera muestra.\n",
        "\n",
        "Si en un stack nos metemos cosas y las sacamos en orden inverso al cual metimos, entonces si pensamos un poco y metemos caracteres de un string y luego los sacamos habriamos volteado el string."
      ]
    },
    {
      "cell_type": "code",
      "metadata": {
        "id": "fjUnJjKO5mwX",
        "colab_type": "code",
        "colab": {
          "base_uri": "https://localhost:8080/",
          "height": 36
        },
        "outputId": "b2421905-ef59-4c5d-ef69-0a9d70ce0e43"
      },
      "source": [
        "def reverse_string(string):\n",
        "  stack = Stack()\n",
        "  lista = []\n",
        "  for i in string:\n",
        "    stack.Push(str(i))\n",
        "  for i in range(len(string)):\n",
        "    lista.append(stack.Top())\n",
        "    stack.Pop()\n",
        "  return \"\".join(lista)\n",
        "\n",
        "string = 'hello world'\n",
        "reverse_string(string)"
      ],
      "execution_count": 2,
      "outputs": [
        {
          "output_type": "execute_result",
          "data": {
            "application/vnd.google.colaboratory.intrinsic+json": {
              "type": "string"
            },
            "text/plain": [
              "'dlrow olleh'"
            ]
          },
          "metadata": {
            "tags": []
          },
          "execution_count": 2
        }
      ]
    },
    {
      "cell_type": "markdown",
      "metadata": {
        "id": "Y4McBePAx_EP",
        "colab_type": "text"
      },
      "source": [
        "Tienes idea como los editores código saben cuando no cerramos algún parentesis?\n",
        "\n",
        "IDEA: Si obviamos caracteres distintintos a `( )` `{ }` y `[ ]` y meteemos en un stack cada uno de los que se vaya abriendo esto tiene la particularidad que el ultimo elemento que se abre es el primero que se debe cerrar, es decir, data alguna expresión con muchos de estos ejemplo\n",
        "\n",
        "`\n",
        "[{([])}]\n",
        "`\n",
        "\n",
        "si te das cuenta el corche es el ultimo que se abre y el primero que se cierra, esto se cumple siemrpe!\n",
        "\n",
        "AHORA: Si haemos push en un stack de los elementos que se abren y cuando  tomemos con un elemento que se cierre ese elemento debe debe ser la contraparte de elemento en el top del stack.\n",
        "\n"
      ]
    },
    {
      "cell_type": "code",
      "metadata": {
        "id": "QhvPeCMz7cQE",
        "colab_type": "code",
        "colab": {
          "base_uri": "https://localhost:8080/",
          "height": 54
        },
        "outputId": "f7d4973a-0522-4a77-800d-9c9c7de95a66"
      },
      "source": [
        "def checkBalance(exp: str):\n",
        "  \n",
        "  opening  = ['(', '[', '{']\n",
        "  closing = [')', ']', '}']\n",
        "\n",
        "  s = Stack()\n",
        "\n",
        "  for char in exp:\n",
        "    if char in opening:\n",
        "      s.Push(char)\n",
        "    elif char in closing:\n",
        "      index_closing = closing.index(str(char))\n",
        "      index_opening = opening.index(str(s.Top()))\n",
        "      if index_closing != index_opening:\n",
        "        return 'Unbalanced' \n",
        "      else:\n",
        "        s.Pop()\n",
        "  return 'Balanced'\n",
        "\n",
        "data  = '{[()]}'\n",
        "data1 = '[{[}]]'\n",
        "print(checkBalance(data))\n",
        "print(checkBalance(data1))"
      ],
      "execution_count": 8,
      "outputs": [
        {
          "output_type": "stream",
          "text": [
            "Balanced\n",
            "Unbalanced\n"
          ],
          "name": "stdout"
        }
      ]
    },
    {
      "cell_type": "code",
      "metadata": {
        "id": "DbpHHyb7dnYB",
        "colab_type": "code",
        "colab": {
          "base_uri": "https://localhost:8080/",
          "height": 35
        },
        "outputId": "7ef515e8-882e-416c-ef33-b0e0d70431e3"
      },
      "source": [
        "def prefix_parsing(string):\n",
        "  s = Stack()\n",
        "  operators = ['+', '-', '*', '/']\n",
        "\n",
        "  for item in string:\n",
        "    if item not in operators:\n",
        "      s.Push(item)\n",
        "    elif item in operators:\n",
        "      number_2 = int(s.Top())\n",
        "      s.Pop()\n",
        "      number = int(s.Top())\n",
        "      s.Pop()\n",
        "      if operators.index(item) == 0:\n",
        "        s.Push(number+number_2)\n",
        "      elif operators.index(item) == 1:\n",
        "        s.Push(number-number_2)\n",
        "      elif operators.index(item) == 2:\n",
        "        s.Push(number*number_2)\n",
        "      else:\n",
        "        s.Push(number/number_2)\n",
        "  return s.Top()\n",
        "\n",
        "data = '23*54*+9-'\n",
        "prefix_parsing(data)"
      ],
      "execution_count": 9,
      "outputs": [
        {
          "output_type": "execute_result",
          "data": {
            "text/plain": [
              "17"
            ]
          },
          "metadata": {
            "tags": []
          },
          "execution_count": 9
        }
      ]
    },
    {
      "cell_type": "markdown",
      "metadata": {
        "id": "keZN7IQIz37o",
        "colab_type": "text"
      },
      "source": [
        "\n",
        "\n",
        "> # <strong>Queues</strong>\n",
        "\n",
        "Asì como podemos tener estructuras de datos tipo `LIFO` (STACKS) necesitamos alguna structura de tipo `FIFO` (QUEUES) ésta ultima es muy similar a las structuras con `LIFO` ya que todas sus operaciones se realizan en un Time Complexity constante, ahora bien ¿Cual es la diferencia? pues que estas listas son `FIFO` es decir lo First In First Out es decir que al llamar al método `pop()` vamos a poder extraer el primer elemento que insertamos. \n",
        "\n",
        "![](data:image/png;base64,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)\n"
      ]
    },
    {
      "cell_type": "code",
      "metadata": {
        "id": "bVilo1bHYmzJ",
        "colab_type": "code",
        "colab": {}
      },
      "source": [
        "class Queue:\n",
        "  def __init__(self, data=None, max_len=0):\n",
        "    if type(data) == list:\n",
        "      self.queue = data\n",
        "      \n",
        "    elif type(data) == int or type(data) == str:\n",
        "      self.queue = [data]\n",
        "    elif type(data) == tuple:\n",
        "      self.queue = list(data)\n",
        "      \n",
        "    elif data == None:\n",
        "      self.queue = []\n",
        "      \n",
        "    self.max_len = max_len\n",
        "    self.front = -1\n",
        "\n",
        "  def enqueue(self, data):\n",
        "    if self.max_len > 0 and len(self.queue) < self.max_len:\n",
        "      self.queue.append(data)\n",
        "      self.front +=  1\n",
        "    elif self.max_len == 0:\n",
        "      self.queue.append(data)\n",
        "      self.front +=1\n",
        "    elif len(self.enqueue) == self.max_len:\n",
        "      self.dequeue()\n",
        "      self.append(data)\n",
        "\n",
        "  def dequeue(self):\n",
        "    if self.front == -1:\n",
        "      raise Exception('Queue is empty')\n",
        "    else:\n",
        "      data = self.queue[-1]\n",
        "      self.queue.remove(data)\n",
        "      print(data, 'Dequeued')\n",
        "        \n",
        "  def get_front(self):\n",
        "    return self.queue[0]\n",
        "  "
      ],
      "execution_count": 20,
      "outputs": []
    },
    {
      "cell_type": "code",
      "metadata": {
        "id": "lNf1QVU40OZ7",
        "colab_type": "code",
        "colab": {
          "base_uri": "https://localhost:8080/",
          "height": 72
        },
        "outputId": "dfdf3fc9-5087-4ca1-817f-436cd4a0411c"
      },
      "source": [
        "queue = Queue()\n",
        "queue.enqueue(1)\n",
        "queue.enqueue('hola')\n",
        "queue.enqueue(1.45)\n",
        "print(queue.get_front())\n",
        "queue.dequeue()\n",
        "print(queue.get_front())"
      ],
      "execution_count": 21,
      "outputs": [
        {
          "output_type": "stream",
          "text": [
            "1\n",
            "1.45 Dequeued\n",
            "1\n"
          ],
          "name": "stdout"
        }
      ]
    },
    {
      "cell_type": "code",
      "metadata": {
        "id": "wZUj6peq01us",
        "colab_type": "code",
        "colab": {}
      },
      "source": [
        ""
      ],
      "execution_count": null,
      "outputs": []
    }
  ]
}