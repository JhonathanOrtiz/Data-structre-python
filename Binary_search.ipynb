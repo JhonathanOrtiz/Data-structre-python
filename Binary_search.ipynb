{
  "nbformat": 4,
  "nbformat_minor": 0,
  "metadata": {
    "colab": {
      "name": "Binary_search",
      "provenance": [],
      "toc_visible": true,
      "mount_file_id": "1btwQcK2YfAQBfAFJOb8HivgLivSZg_ko",
      "authorship_tag": "ABX9TyMQPv9NMdUFJYW3da3bvZRU",
      "include_colab_link": true
    },
    "kernelspec": {
      "name": "python3",
      "display_name": "Python 3"
    }
  },
  "cells": [
    {
      "cell_type": "markdown",
      "metadata": {
        "id": "view-in-github",
        "colab_type": "text"
      },
      "source": [
        "<a href=\"https://colab.research.google.com/github/JhonathanOrtiz/Data-structre-python/blob/master/Binary_search.ipynb\" target=\"_parent\"><img src=\"https://colab.research.google.com/assets/colab-badge.svg\" alt=\"Open In Colab\"/></a>"
      ]
    },
    {
      "cell_type": "markdown",
      "metadata": {
        "id": "ILdlzzoXUUz1",
        "colab_type": "text"
      },
      "source": [
        "# LINEAR SEACH"
      ]
    },
    {
      "cell_type": "code",
      "metadata": {
        "id": "MvTGcxnJ3kEV",
        "colab_type": "code",
        "colab": {
          "base_uri": "https://localhost:8080/",
          "height": 35
        },
        "outputId": "c4f39a4b-88b2-44ff-b1db-728606647302"
      },
      "source": [
        "a = [2,6,13,21,36,47,63,81,97]\n",
        "b = 97\n",
        "\n",
        "def linear_search(a, b):\n",
        "  for i in a:\n",
        "    if i == b:\n",
        "      return True\n",
        "  return False\n",
        "  \n",
        "linear_search(a, b)"
      ],
      "execution_count": null,
      "outputs": [
        {
          "output_type": "execute_result",
          "data": {
            "text/plain": [
              "True"
            ]
          },
          "metadata": {
            "tags": []
          },
          "execution_count": 63
        }
      ]
    },
    {
      "cell_type": "markdown",
      "metadata": {
        "id": "UXev0mnWb1Rl",
        "colab_type": "text"
      },
      "source": [
        "\n",
        "\n",
        "> # Binary Search\n",
        "\n"
      ]
    },
    {
      "cell_type": "code",
      "metadata": {
        "id": "-Y7bOOJa4C6i",
        "colab_type": "code",
        "colab": {
          "base_uri": "https://localhost:8080/",
          "height": 72
        },
        "outputId": "11bed0c2-daaf-4a9d-a198-f9ce29eaaf6b"
      },
      "source": [
        "%time\n",
        "def BinarySearch(a: list, x):\n",
        "  n = len(a)\n",
        "\n",
        "  low = 0\n",
        "  high = n - 1\n",
        " \n",
        "  while low <= high:\n",
        "    med = int((low + high) / 2)\n",
        "    \n",
        "    if a[med] == x:\n",
        "      return med\n",
        "    elif x > a[med]:\n",
        "      high += 1\n",
        "    elif x < a[med]:\n",
        "      low -=1\n",
        "  return -1\n",
        "BinarySearch(a, b)"
      ],
      "execution_count": null,
      "outputs": [
        {
          "output_type": "stream",
          "text": [
            "CPU times: user 4 µs, sys: 0 ns, total: 4 µs\n",
            "Wall time: 7.63 µs\n"
          ],
          "name": "stdout"
        },
        {
          "output_type": "execute_result",
          "data": {
            "text/plain": [
              "8"
            ]
          },
          "metadata": {
            "tags": []
          },
          "execution_count": 88
        }
      ]
    },
    {
      "cell_type": "code",
      "metadata": {
        "id": "BPcd50bb6BVq",
        "colab_type": "code",
        "colab": {
          "base_uri": "https://localhost:8080/",
          "height": 35
        },
        "outputId": "9276bcbe-4b3f-4659-a381-cba5694952f2"
      },
      "source": [
        "a = [2,6,13,21,36,47,63,81,97]\n",
        "b = 97\n",
        "\n",
        "def BinarySearchR(a, x, low, high):\n",
        "\n",
        "  if low > high:\n",
        "    \n",
        "    return -1 \n",
        "\n",
        "  med = int((high+low)/2)\n",
        "\n",
        "  if a[med] == x:\n",
        "    return med\n",
        "  elif x > a[med]:\n",
        "    return BinarySearchR(a, x, med+1, high)\n",
        "  elif x < a[med]:\n",
        "    return BinarySearchR(a, x, low, med-1)\n",
        "\n",
        "print(BinarySearchR(a, b, 0, len(a)-1))"
      ],
      "execution_count": 68,
      "outputs": [
        {
          "output_type": "stream",
          "text": [
            "8\n"
          ],
          "name": "stdout"
        }
      ]
    },
    {
      "cell_type": "code",
      "metadata": {
        "id": "c5RzMYeJqpEy",
        "colab_type": "code",
        "colab": {}
      },
      "source": [
        "class BanarySearchTree:\n",
        "  def __init__(self, data=None):\n",
        "    self.root = Node(data)\n",
        "      \n",
        "\n",
        "  def insert_node(self, data, root=None):\n",
        "    if self.root == None:\n",
        "      self.root = Node(data)\n",
        "    else:\n",
        "      if data <= root.data and root.left == None:\n",
        "        root.left = Node(data)\n",
        "      elif data <= root.data and root.left is not None:\n",
        "        return self.insert_node(data, root.left)\n",
        "\n",
        "      elif data > root.data and root.right == None:\n",
        "        root.right = Node(data)\n",
        "      elif data > root.data and root.right is not None:\n",
        "        return self.insert_node(data, root.right)\n",
        "\n",
        "  def order_print(self, root):\n",
        "    if root == None:\n",
        "      return\n",
        "    else:\n",
        "      print(root.data)\n",
        "      self.order_print(root.left)\n",
        "      self.order_print(root.right)\n",
        "\n",
        "  def print_like_tree(self, root):\n",
        "    if root == None:\n",
        "      return\n",
        "    else:\n",
        "      self.print_like_tree(root.left)\n",
        "      print(root.data)\n",
        "      self.print_like_tree(root.right)\n",
        "  \n",
        "  def search(self, data, root):\n",
        "    result = 0\n",
        "\n",
        "    if root.data == data:\n",
        "      return True\n",
        "\n",
        "    if node == None:\n",
        "      return -1\n",
        "\n",
        "    else:\n",
        "      if data > root.data:\n",
        "        return self.search(data, node.right)\n",
        "      else:\n",
        "        return self.search(data, node.left) \n",
        "  \n",
        "  def find_min_max(self, root, max = True):\n",
        "    if max:\n",
        "      if root.data is None:\n",
        "        return -1\n",
        "      \n",
        "      if root.right is not None:\n",
        "        return self.find_min_max(root.right)\n",
        "      elif root.right is None:\n",
        "        return root.data\n",
        "\n",
        "    if not max:  \n",
        "      if root.data is None:\n",
        "        return root.data\n",
        "      \n",
        "      if root.left is not None:\n",
        "        return self.find_min_max(root.left, max=False)\n",
        "      elif root.left is None:\n",
        "        return root.data\n",
        "  \n",
        "  def findHeight(self, root):\n",
        "    if root == None:\n",
        "      return -1\n",
        "    else:\n",
        "      left = self.findHeight(root.left)\n",
        "      right = self.findHeight(root.right)\n",
        "      return max(left,right)+1 \n",
        "class Node:\n",
        "  def __init__(self, data, right=None, left=None, is_leaf=None):\n",
        "    self.data = data\n",
        "    self.right = right\n",
        "    self.left = left\n",
        "    self.leaf = is_leaf\n",
        "\n",
        "nodes = [4, 1, 6, 13, 5, 25, 30, 10, 35, 33, 22]\n",
        "\n",
        "tree = BanarySearchTree(7)\n",
        "\n",
        "for i in nodes:\n",
        "  tree.insert_node(i, tree.root)"
      ],
      "execution_count": 45,
      "outputs": []
    },
    {
      "cell_type": "code",
      "metadata": {
        "id": "tw5O8YvVOX-3",
        "colab_type": "code",
        "colab": {
          "base_uri": "https://localhost:8080/",
          "height": 35
        },
        "outputId": "cb92b95d-15fb-416f-f8d4-1856bf7334db"
      },
      "source": [
        ""
      ],
      "execution_count": 66,
      "outputs": [
        {
          "output_type": "execute_result",
          "data": {
            "text/plain": [
              "0"
            ]
          },
          "metadata": {
            "tags": []
          },
          "execution_count": 66
        }
      ]
    },
    {
      "cell_type": "code",
      "metadata": {
        "id": "8KcvQBrsYOYf",
        "colab_type": "code",
        "colab": {}
      },
      "source": [
        ""
      ],
      "execution_count": null,
      "outputs": []
    }
  ]
}