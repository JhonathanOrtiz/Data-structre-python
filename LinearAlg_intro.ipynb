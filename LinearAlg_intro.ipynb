{
  "nbformat": 4,
  "nbformat_minor": 0,
  "metadata": {
    "colab": {
      "name": "LinearAlg_intro.ipynb",
      "provenance": [],
      "authorship_tag": "ABX9TyNwidRqUqPNPMC2G2QI/1u7",
      "include_colab_link": true
    },
    "kernelspec": {
      "name": "python3",
      "display_name": "Python 3"
    }
  },
  "cells": [
    {
      "cell_type": "markdown",
      "metadata": {
        "id": "view-in-github",
        "colab_type": "text"
      },
      "source": [
        "<a href=\"https://colab.research.google.com/github/JhonathanOrtiz/Data-structre-python/blob/master/LinearAlg_intro.ipynb\" target=\"_parent\"><img src=\"https://colab.research.google.com/assets/colab-badge.svg\" alt=\"Open In Colab\"/></a>"
      ]
    },
    {
      "cell_type": "markdown",
      "metadata": {
        "id": "njfTwbdUzMuG",
        "colab_type": "text"
      },
      "source": [
        "\n",
        "\n",
        "> # <strong>Àlgebra Lineal</strong>\n",
        "\n",
        "¿Lindo nombre no? Pero es simplemente sumas y multiplicar vectores y escalares, (Un simple numero es un escalar, luego veremos de donde viene este nombre). Entonces si sólo queremos sumar y multiplicar vectores ¿por qué es tan complejo? esa pregunta fue la pregunta que me hice antes de empezar todo èsto y la respuesta fue porque no te han enseñado de la forma correcta. Hoy veremos todo esto desde un punto de vista un poco màs gráfico y menos numérico.\n",
        "\n",
        "**Vector:**\n",
        "\n",
        " A los Fìsicos les gusta verlos como un conjunto de flechas que tienen magnitud y dirección que pueden estar en cualquier parte del plano.\n",
        "\n",
        "A los programadores pues nos gusta decir que es un conjunto ordenado de numeros.\n",
        "\n",
        "Y para los matemáticos son flechas cuyas coordenadas vinen en un conjunto ordenado de numeros, nos quedaremos por ahora con èsta defición sumandole que dichas flechas siempre empiezan en el origen.\n"
      ]
    },
    {
      "cell_type": "code",
      "metadata": {
        "id": "QbDH150j2sCy",
        "colab_type": "code",
        "colab": {
          "base_uri": "https://localhost:8080/",
          "height": 283
        },
        "outputId": "df247c13-1e41-4458-ceef-789b00445a41"
      },
      "source": [
        "import matplotlib.pyplot as plt\n",
        "\n",
        "vector = [1, 1]\n",
        "\n",
        "def VectorPlot(vector, color, title=None):\n",
        "  # Limites de la figura\n",
        "  izda = min(-1, vector[0]-2)\n",
        "  dcha = max(1, vector[0]+4)\n",
        "  abajo = min(-1, vector[1]-2)\n",
        "  arriba = max(1, vector[1]+4)\n",
        "\n",
        "  # El metodo quiver pinta vectores, pero para que salgan de las\n",
        "  # dimensiones correctas hay que usar los parámetros angles, scale y scale_units\n",
        "\n",
        "  plt.quiver([vector[0]], [vector[1]], angles='xy', scale_units='xy', scale=1,color=color)\n",
        "\n",
        "  # Pintamos lineas que pasan por el origen de coordenadas\n",
        "  plt.axhline(0)\n",
        "  plt.axvline(0)\n",
        "\n",
        "  # Fijamos límites, etiquetas y títulos\n",
        "  plt.xlim([izda, dcha])\n",
        "  plt.ylim([abajo, arriba])\n",
        "  plt.xlabel('x')\n",
        "  plt.ylabel('y')\n",
        "  plt.title(title)\n",
        "  \n",
        "  x1 = 1\n",
        "  y1 = 1\n",
        "  x2 = 1.5\n",
        "  y2 = 0.5\n",
        "\n",
        "VectorPlot(vector, 'blue')\n",
        "\n",
        "plt.grid()\n",
        "plt.show()"
      ],
      "execution_count": 164,
      "outputs": [
        {
          "output_type": "display_data",
          "data": {
            "image/png": "[encoded data removed]",
            "text/plain": [
              "<Figure size 432x288 with 1 Axes>"
            ]
          },
          "metadata": {
            "tags": [],
            "needs_background": "light"
          }
        }
      ]
    },
    {
      "cell_type": "markdown",
      "metadata": {
        "id": "uSJi1G0v5aP2",
        "colab_type": "text"
      },
      "source": [
        "Ya que vimos el gràfico podemos decir que esa lista de nùmeros que por ahora solo será de dos números (Para trabajar en dos dimensiones) nos dan la informacion de como llegar desde origen hasta la punta del vector, v = [1, 1]  El primer término del vector es la coordenada en el eje x y nos dice cuantas unidades nos desplazamos en el eje X (Horizontalmente) y cuanto en el eje Y (Verticalmente) para dibujar un puntito en ese lugar y tazar una linea desde origen del plano hasta el puntito que dibujamos."
      ]
    },
    {
      "cell_type": "markdown",
      "metadata": {
        "id": "2sqKXJIfB4Hi",
        "colab_type": "text"
      },
      "source": [
        "**Ahora sumemos vectores**\n",
        "\n",
        "Casi todo en algebra gira entorno a la suma de vectores y la multiplicación por un escalar, hemos dicho que trabajaremos con dos dimensiones y la suma es simplemente sumar los terminos correspondientes de cada vector. Veamos un ejemplo."
      ]
    },
    {
      "cell_type": "code",
      "metadata": {
        "id": "Tbk882LNCbAw",
        "colab_type": "code",
        "colab": {
          "base_uri": "https://localhost:8080/",
          "height": 869
        },
        "outputId": "ffdc1e69-b009-4bf2-d125-7d34e5b10d26"
      },
      "source": [
        "vector_1 = [1, 1]\n",
        "vector_2 = [2, 1]\n",
        "\n",
        "vector_result = [vector_1[0]+vector_2[0], vector_1[1]+vector_2[1]]\n",
        "\n",
        "plt.grid()\n",
        "VectorPlot(vector_1, 'red', 'vector 1')\n",
        "plt.plot()\n",
        "plt.show()\n",
        "plt.grid()\n",
        "VectorPlot(vector_2, 'blue', 'vector 2')\n",
        "plt.show()\n",
        "plt.grid()\n",
        "VectorPlot(vector_result, 'green', 'vector resutante')\n",
        "plt.show()\n",
        "\n",
        "\n",
        "print('Vector Resultante', vector_result)"
      ],
      "execution_count": 93,
      "outputs": [
        {
          "output_type": "display_data",
          "data": {
            "image/png": "[encoded data removed]",
            "text/plain": [
              "<Figure size 432x288 with 1 Axes>"
            ]
          },
          "metadata": {
            "tags": [],
            "needs_background": "light"
          }
        },
        {
          "output_type": "display_data",
          "data": {
            "image/png": "[encoded data removed]",
            "text/plain": [
              "<Figure size 432x288 with 1 Axes>"
            ]
          },
          "metadata": {
            "tags": [],
            "needs_background": "light"
          }
        },
        {
          "output_type": "display_data",
          "data": {
            "image/png": "[encoded data removed]",
            "text/plain": [
              "<Figure size 432x288 with 1 Axes>"
            ]
          },
          "metadata": {
            "tags": [],
            "needs_background": "light"
          }
        },
        {
          "output_type": "stream",
          "text": [
            "Vector Resultante [3, 2]\n"
          ],
          "name": "stdout"
        }
      ]
    },
    {
      "cell_type": "markdown",
      "metadata": {
        "id": "4ENwXL42F1rw",
        "colab_type": "text"
      },
      "source": [
        "No nos quedemos con eso pensemos un poco mas, cuando estamos aprendiendo a sumar nos dicen que imaginemos la recta real y nos paremos en cualquiera de los numeros a sumar y nos caminemos tantas unidades como el segundo numero a sumar ej. 3 + 2 tomamos la recta real nos paramos en el tres y caminamos 2 unidades y sin duda alguna llegaremos al 5 y ese es nuestro resultado. veamos gràficamente la de vectores."
      ]
    },
    {
      "cell_type": "code",
      "metadata": {
        "id": "ae2PbT5MHDDd",
        "colab_type": "code",
        "colab": {
          "base_uri": "https://localhost:8080/",
          "height": 295
        },
        "outputId": "e165bf12-a0f1-4624-82ce-fc1583587bb6"
      },
      "source": [
        "x1 = vector_1[0]\n",
        "y1 = vector_1[1]\n",
        "x2 = x1 + vector_2[0]\n",
        "y2 = y1 +  vector_2[1]\n",
        "\n",
        "VectorPlot(vector, 'red', 'Vector 1 + Vector 2')\n",
        "plt.plot([x1, x2], [y1, y2], marker = 'o')\n",
        "plt.show\n",
        "plt.grid()"
      ],
      "execution_count": 88,
      "outputs": [
        {
          "output_type": "display_data",
          "data": {
            "image/png": "[encoded data removed]",
            "text/plain": [
              "<Figure size 432x288 with 1 Axes>"
            ]
          },
          "metadata": {
            "tags": [],
            "needs_background": "light"
          }
        }
      ]
    },
    {
      "cell_type": "markdown",
      "metadata": {
        "id": "l3vQILtBI1yD",
        "colab_type": "text"
      },
      "source": [
        "**Espera No te asustes**\n",
        "\n",
        "Con esto que acabamos de hacer demostramos que la suma de dos vectores es igual a tomar la primera componente del primer vector y caminar tantas unidades como tenga la primera componente del segundo vector y luego paranos de la segunda componente del primer vector y subir tantas unidades como la segunda componente del segundo vector. ¿No me crees? veamos la grafica final.\n"
      ]
    },
    {
      "cell_type": "code",
      "metadata": {
        "id": "Hh5v1N87KW2z",
        "colab_type": "code",
        "colab": {
          "base_uri": "https://localhost:8080/",
          "height": 573
        },
        "outputId": "57674a5d-2e7c-4833-f6eb-4305113e419a"
      },
      "source": [
        "\n",
        "VectorPlot(vector, 'red', 'Vector 1 + Vector 2')\n",
        "plt.plot([x1, x2], [y1, y2], marker = 'o')\n",
        "plt.plot([0, 3], [0,2], marker='o', color='g')\n",
        "plt.grid()\n",
        "plt.show()\n",
        "\n",
        "plt.grid()\n",
        "\n",
        "VectorPlot(vector_result, 'green', 'Vector Resultante')\n",
        "plt.show()"
      ],
      "execution_count": 97,
      "outputs": [
        {
          "output_type": "display_data",
          "data": {
            "image/png": "[encoded data removed]",
            "text/plain": [
              "<Figure size 432x288 with 1 Axes>"
            ]
          },
          "metadata": {
            "tags": [],
            "needs_background": "light"
          }
        },
        {
          "output_type": "display_data",
          "data": {
            "image/png": "[encoded data removed]",
            "text/plain": [
              "<Figure size 432x288 with 1 Axes>"
            ]
          },
          "metadata": {
            "tags": [],
            "needs_background": "light"
          }
        }
      ]
    },
    {
      "cell_type": "markdown",
      "metadata": {
        "id": "9-uz1NiILyYT",
        "colab_type": "text"
      },
      "source": [
        "Ahora, la multiplicación por un escalar es mas sencilla, tomamos un numero real cualquiera y el resultado de nuestra multiplicación es multiplicar el escalar por cada uno de los componentes del vector.\n",
        "\n",
        "tomemos nuestros vector [1, 1] y multiplicamos por el escalar 2 según acabo de decir, el resultado es simplemente [2, 2] pero veamos la grafica."
      ]
    },
    {
      "cell_type": "code",
      "metadata": {
        "id": "aucXpvkLMduG",
        "colab_type": "code",
        "colab": {
          "base_uri": "https://localhost:8080/",
          "height": 573
        },
        "outputId": "4a92626c-e216-4e79-e496-2de737bde649"
      },
      "source": [
        "vector = [1, 1]\n",
        "escalar = 2\n",
        "vector_mul = [vector[0]*escalar, vector[1]*escalar]\n",
        "\n",
        "VectorPlot(vector, 'blue', 'Vector')\n",
        "plt.grid()\n",
        "plt.show()\n",
        "VectorPlot(vector_mul, 'green', 'Escaled Vector')\n",
        "plt.grid()\n",
        "plt.show()"
      ],
      "execution_count": 101,
      "outputs": [
        {
          "output_type": "display_data",
          "data": {
            "image/png": "[encoded data removed]",
            "text/plain": [
              "<Figure size 432x288 with 1 Axes>"
            ]
          },
          "metadata": {
            "tags": [],
            "needs_background": "light"
          }
        },
        {
          "output_type": "display_data",
          "data": {
            "image/png": "[encoded data removed]",
            "text/plain": [
              "<Figure size 432x288 with 1 Axes>"
            ]
          },
          "metadata": {
            "tags": [],
            "needs_background": "light"
          }
        }
      ]
    },
    {
      "cell_type": "markdown",
      "metadata": {
        "id": "31c1--FwNPsv",
        "colab_type": "text"
      },
      "source": [
        "Curioso el vector escalado es justo el doble del vector inicial, y por esa razon se le llama a un numero real en algebra escalar, porque lo que hace es escalar el vector. si multiplicamos por ejemplo por 0.5 el vector se reducira a la mitad y asi...\n",
        "\n",
        "No me crees?"
      ]
    },
    {
      "cell_type": "code",
      "metadata": {
        "id": "zh292jdHNmu1",
        "colab_type": "code",
        "colab": {
          "base_uri": "https://localhost:8080/",
          "height": 573
        },
        "outputId": "cb4df446-eeeb-4dad-b420-3a1c1f42d546"
      },
      "source": [
        "vector = [1, 1]\n",
        "escalar = 0.5\n",
        "vector_mul = [vector[0]*escalar, vector[1]*escalar]\n",
        "\n",
        "VectorPlot(vector, 'blue', 'Vector')\n",
        "plt.grid()\n",
        "plt.show()\n",
        "VectorPlot(vector_mul, 'green', 'Escaled Vector')\n",
        "plt.grid()\n",
        "plt.show()"
      ],
      "execution_count": 102,
      "outputs": [
        {
          "output_type": "display_data",
          "data": {
            "image/png": "[encoded data removed]",
            "text/plain": [
              "<Figure size 432x288 with 1 Axes>"
            ]
          },
          "metadata": {
            "tags": [],
            "needs_background": "light"
          }
        },
        {
          "output_type": "display_data",
          "data": {
            "image/png": "[encoded data removed]",
            "text/plain": [
              "<Figure size 432x288 with 1 Axes>"
            ]
          },
          "metadata": {
            "tags": [],
            "needs_background": "light"
          }
        }
      ]
    },
    {
      "cell_type": "markdown",
      "metadata": {
        "id": "KR2Q39FYNwRZ",
        "colab_type": "text"
      },
      "source": [
        "Ya tenemos definida la suma y la multiplicacion por un vector ahora les presentaré 2 vectores especiales llamados los vectores unitarios, (i, j) el vector i es un vector con coordenadas (1, 0) mientras que las coordenadas del vector j (0, 1) y nunca, nuca JAMÀS van a cambiar. \n",
        "\n",
        "Se los presento"
      ]
    },
    {
      "cell_type": "code",
      "metadata": {
        "id": "v2rnReDlPkud",
        "colab_type": "code",
        "colab": {
          "base_uri": "https://localhost:8080/",
          "height": 295
        },
        "outputId": "b8c29465-505f-47e0-e2a2-6935b4a0b503"
      },
      "source": [
        "i = [1, 0]\n",
        "j = [0, 1]\n",
        "\n",
        "VectorPlot(i, 'red', 'Vectores unitarios')\n",
        "VectorPlot(j, 'green', 'Vectores unitarios')\n",
        "plt.plot()\n",
        "plt.grid()"
      ],
      "execution_count": 115,
      "outputs": [
        {
          "output_type": "display_data",
          "data": {
            "image/png": "[encoded data removed]",
            "text/plain": [
              "<Figure size 432x288 with 1 Axes>"
            ]
          },
          "metadata": {
            "tags": [],
            "needs_background": "light"
          }
        }
      ]
    },
    {
      "cell_type": "markdown",
      "metadata": {
        "id": "UL9fBJedQPPE",
        "colab_type": "text"
      },
      "source": [
        "Ahora pensemos en un vector v = [2, 2] si la primera componente representa a `x` y la segunda reprensa `y` ahora pensemos que estas coordendas son escalares `x=1`, `y=1`  y cada uno de estos escalares, escala valga la redunndacia el su vector unitario correspondiente `x -> i` `j -> y` "
      ]
    },
    {
      "cell_type": "code",
      "metadata": {
        "id": "VrUc0IytSN5x",
        "colab_type": "code",
        "colab": {
          "base_uri": "https://localhost:8080/",
          "height": 295
        },
        "outputId": "fc6acbfa-7a10-49b1-e4c8-0071d27287cf"
      },
      "source": [
        "vector = [2, 2]\n",
        "\n",
        "x = vector[0]\n",
        "y = vector[1]\n",
        "\n",
        "i = [i[0]*x, i[1]*y]\n",
        "j = [j[0]*x, j[1]*y]\n",
        "\n",
        "#Note que ya que la primera coordenada de j siemrpe es cero y segunda de i siempre es cero el resuldato es\n",
        "#Estirar el vector hacia su distancia correspondiente\n",
        "\n",
        "VectorPlot(i, 'green', 'Vector')\n",
        "VectorPlot(j, 'red', 'Vector')\n",
        "plt.grid()\n",
        "plt.show()\n"
      ],
      "execution_count": 116,
      "outputs": [
        {
          "output_type": "display_data",
          "data": {
            "image/png": "[encoded data removed]",
            "text/plain": [
              "<Figure size 432x288 with 1 Axes>"
            ]
          },
          "metadata": {
            "tags": [],
            "needs_background": "light"
          }
        }
      ]
    },
    {
      "cell_type": "markdown",
      "metadata": {
        "id": "gCv6yj_oUB1u",
        "colab_type": "text"
      },
      "source": [
        "Recuerdas como sumamos los vectores? Es momento de aplicar lo aprendido la suma de los vectores matematicamente se define como la suma termino a termino de cada componete `i ahora es igual a [2, 0]` y `j ahora es igual [0,2]` es decir el vector resultante es `[2, 2]`¿Cierto? \n",
        "\n",
        "A mi me gustan mas la graficas, mantenemos nuestro vector j (el rojo) y la punta de ese vector ahora será el origen el vector i (Verde)"
      ]
    },
    {
      "cell_type": "code",
      "metadata": {
        "id": "JjAH3zyQUGMk",
        "colab_type": "code",
        "colab": {
          "base_uri": "https://localhost:8080/",
          "height": 295
        },
        "outputId": "9647d3ec-4235-4e1e-eef4-26cf385dda1a"
      },
      "source": [
        "x1 = 0\n",
        "y1 = 2\n",
        "x2 = 2\n",
        "y2 = 2\n",
        "\n",
        "VectorPlot(j, 'red', 'Vector sum')\n",
        "plt.plot([x1, x2], [y1, y2], marker='o', color='green')\n",
        "VectorPlot([2,2], 'blue', 'Vector Result')\n",
        "plt.grid()\n",
        "plt.show()"
      ],
      "execution_count": 120,
      "outputs": [
        {
          "output_type": "display_data",
          "data": {
            "image/png": "[encoded data removed]",
            "text/plain": [
              "<Figure size 432x288 with 1 Axes>"
            ]
          },
          "metadata": {
            "tags": [],
            "needs_background": "light"
          }
        }
      ]
    },
    {
      "cell_type": "markdown",
      "metadata": {
        "id": "ETeAE4VbXAzD",
        "colab_type": "text"
      },
      "source": [
        "<h1>Un poco de teoría</h1>\n",
        "Por esta razòn es que el algebra lineal gira en torno a la suma de vectores y la multiplicación por un escalar. Y los vectores i y j son llamados vectores unitarios o base porque aplicando solo estas dos opearaciones suma y multiplicacion, podemos obtener cualquier vector del espacio. \n",
        "\n",
        "`v = x(i) + y(j)` A esa formula le llamamos combiniacion lineal, y dados dos vectores el **Subespacio generado** es el conjunto de todos los vectores que podamos obtener aplicando esa formula, los vectores no necesariamente pueden ser i y j podemos obtener un par de vectores disntos y explorar las combinaciones lineales, Pero cuidado te puedes quedar atrapado en el origen!\n",
        "\n",
        "Ahora imaginemos que queremos probar con los vectores `i = [1, 0] y j = [1, 0]`"
      ]
    },
    {
      "cell_type": "markdown",
      "metadata": {
        "id": "Ef7mwggmdGN9",
        "colab_type": "text"
      },
      "source": [
        ""
      ]
    },
    {
      "cell_type": "code",
      "metadata": {
        "id": "lq_a5nJDb3hr",
        "colab_type": "code",
        "colab": {
          "base_uri": "https://localhost:8080/",
          "height": 851
        },
        "outputId": "7e46a33d-fb8d-49b5-8183-424cda03394b"
      },
      "source": [
        "#Construimos nuestros vectores base\n",
        "i = j = [1, 0]\n",
        "\n",
        "#Tomemos 2 escalares cualquiera\n",
        "escalares = [(1, 4), (2, -1), (3, 2)]\n",
        "colors = ['green', 'blue', 'red']\n",
        "\n",
        "#Hacemos la combinación lineal\n",
        "for index, par in enumerate(escalares):\n",
        "  i = [par[0]*i[0], par[1]*i[1]]\n",
        "  j = [par[0]*j[0], par[0]*j[1]]\n",
        "\n",
        "  new_vector = [i[0]+j[0], i[1]+j[1]]\n",
        "  VectorPlot(new_vector, colors[index], 'Vector generado ' + str(index))\n",
        "  plt.grid()\n",
        "  plt.show()\n"
      ],
      "execution_count": 132,
      "outputs": [
        {
          "output_type": "display_data",
          "data": {
            "image/png": "[encoded data removed]",
            "text/plain": [
              "<Figure size 432x288 with 1 Axes>"
            ]
          },
          "metadata": {
            "tags": [],
            "needs_background": "light"
          }
        },
        {
          "output_type": "display_data",
          "data": {
            "image/png": "[encoded data removed]",
            "text/plain": [
              "<Figure size 432x288 with 1 Axes>"
            ]
          },
          "metadata": {
            "tags": [],
            "needs_background": "light"
          }
        },
        {
          "output_type": "display_data",
          "data": {
            "image/png": "[encoded data removed]",
            "text/plain": [
              "<Figure size 432x288 with 1 Axes>"
            ]
          },
          "metadata": {
            "tags": [],
            "needs_background": "light"
          }
        }
      ]
    },
    {
      "cell_type": "markdown",
      "metadata": {
        "id": "zAGBgT_cgkB3",
        "colab_type": "text"
      },
      "source": [
        "Podemos seguir todo todo el tiempo que quieras ploteando graficas pero no saldremos de la lìnea del eje x en este caso el subespacio generador por los vectores `i = [1,0], j = [1, 0]` es la linea trazada para el eje X ya que tomando cualquier escalars solo conseguiremos generar vectores en esta linea, cuando esto sucede, los vectores son linealmente dependientes, en dos dimensiones dos vectores son linealmente dependientes cuando los vectores son iguales, es decir, si te das cuenta puedo quitar uno de los dos vectores y el subespacio generado seguirá siendo la misma linea recta, y dos vectores son linealmente independientes en dos dimensiones si son distintos, es decir, necesito ambos vectores para recorrer todo el subespcio generado.\n",
        " "
      ]
    },
    {
      "cell_type": "markdown",
      "metadata": {
        "id": "15UheV7LjQ3J",
        "colab_type": "text"
      },
      "source": [
        "\n",
        "\n",
        "\n",
        "> # <strong> Matrices </strong>\n",
        "\n",
        "Conociendo la idea intuitiva destras de los vectores y su relacion geometrica el otro punto que debemos tener muy claro y que tampoco nos enseñan es la idea intuitiva detrás de las matrices. Comprendiendo estos dos conceptos claves grafica y teoricamente podemos desarrollar una habilidad inimaginable.\n",
        "\n",
        "Para comprender las matrices primero entendamos que es una Transformaciòn lineal y la relacion que tiene con la multiplicacion de matrices\n",
        "\n",
        "Empecemos con la palabra transformaciòn, una Transformación es una manera fancy de decir función, asi como lo lees, una transformacion es una funciòn ya que toma un valor y te regresa otro, como estamos en algebra las transformaciones toman un vector y te regresan otro vector. Veamos estos en imagenes."
      ]
    },
    {
      "cell_type": "markdown",
      "metadata": {
        "id": "8dTjxvc2mia7",
        "colab_type": "text"
      },
      "source": [
        "El conjunto de vectores que podemos generar con los vectores base (i, j) es tan grande que podemos decir que es el plano completo.\n",
        "\n",
        "\n",
        "![](https://encrypted-tbn0.gstatic.com/images?q=tbn%3AANd9GcSPs9CEMxL4jOoexuUQA097zHHveCEEZcxyWA&usqp=CAU)\n",
        "\n",
        "y la salida el plano transformado.\n",
        "\n",
        "![](https://encrypted-tbn0.gstatic.com/images?q=tbn%3AANd9GcQE_RNuTFds2iaAkmiiIPz7WnrsT-i2BiHNyg&usqp=CAU)\n",
        "\n"
      ]
    },
    {
      "cell_type": "markdown",
      "metadata": {
        "id": "Zn7O21r4pLdY",
        "colab_type": "text"
      },
      "source": [
        "Pensar en las transformaciones y en las posibilidades es un poco complejo y por eso vamos a la segunda palabra \"Lineal\" un transformación es lineal siy solo si el origen se mantiente e su lugar y las lineas se mantienen rectas (equidistantes) Ahora pensemos en como podemos describir numericamente éstas transformaciones."
      ]
    },
    {
      "cell_type": "markdown",
      "metadata": {
        "id": "hVlfbqk6q416",
        "colab_type": "text"
      },
      "source": [
        "Si tenemos dos vectores bases que siempre estàn en la misma posicion (i, j) el origen siempre se mantiene y las lineas se mantienen x-distante entonces podemos usar ésto y decir: Ok, si el subespacio generado por todos los vectores (i, j) es todo el plano entonces trabajemos con un solo vector [x, y] y para describir la transformación lineal solo tenemos que saber donde fueron a para los vectores de la base (i, j) y de ese modo podemos usar la formula que aprendimos arriba v = [x(i) + y(j)] Veamos un ejemplo\n",
        "\n"
      ]
    },
    {
      "cell_type": "code",
      "metadata": {
        "id": "1USumpZmr_92",
        "colab_type": "code",
        "colab": {
          "base_uri": "https://localhost:8080/",
          "height": 109
        },
        "outputId": "1e8cddfb-af69-4b53-c6bf-b73124dfe109"
      },
      "source": [
        "import numpy as np\n",
        "\n",
        "#El vector x = [-1, 2]\n",
        "v = np.array([-1, 2])\n",
        "print('Vector X', v)\n",
        "#Pensemos que luego de transformar nuestro plano los vectores i y j ahora tienen las siguientes coordenadas\n",
        "i = np.array([1, -2])\n",
        "j = np.array([3, 0])\n",
        "print('')\n",
        "print('EL vector i quedó en las coordenadas: ', i)\n",
        "print('EL vector j quedó en las coordenadas: ', j)\n",
        "\n",
        "#Luego de ejecutar la transformacion que dejo a i y j en esas coordenadas el vector x quedó\n",
        "#en las siguientes coordenadas\n",
        "x = v[0]\n",
        "y = v[1]\n",
        "#r = x(i) + y(j)\n",
        "r = [x*i[0]+y*j[0], x*i[1]+y*j[1]] \n",
        "print('El vector inicial quedo en las coordenadas {} despues de la transformacion: '.format(r))\n"
      ],
      "execution_count": 152,
      "outputs": [
        {
          "output_type": "stream",
          "text": [
            "Vector X [-1  2]\n",
            "\n",
            "EL vector i quedó en las coordenadas:  [ 1 -2]\n",
            "EL vector j quedó en las coordenadas:  [3 0]\n",
            "El vector inicial quedo en las coordenadas [5, 2] despues de la transformacion: \n"
          ],
          "name": "stdout"
        }
      ]
    },
    {
      "cell_type": "code",
      "metadata": {
        "id": "wzyrXjaes9lb",
        "colab_type": "code",
        "colab": {
          "base_uri": "https://localhost:8080/",
          "height": 851
        },
        "outputId": "2a542dcf-cb8e-4eca-98d7-aa1bd2cd3648"
      },
      "source": [
        "VectorPlot(v, 'green', 'Vector inical')\n",
        "plt.show()\n",
        "VectorPlot(i, 'blue')\n",
        "VectorPlot(j, 'red', 'Vectores unitarios')\n",
        "plt.show()\n",
        "VectorPlot(r, 'yellow','Vector transformado')\n",
        "plt.show()\n"
      ],
      "execution_count": 170,
      "outputs": [
        {
          "output_type": "display_data",
          "data": {
            "image/png": "[encoded data removed]",
            "text/plain": [
              "<Figure size 432x288 with 1 Axes>"
            ]
          },
          "metadata": {
            "tags": [],
            "needs_background": "light"
          }
        },
        {
          "output_type": "display_data",
          "data": {
            "image/png": "[encoded data removed]",
            "text/plain": [
              "<Figure size 432x288 with 1 Axes>"
            ]
          },
          "metadata": {
            "tags": [],
            "needs_background": "light"
          }
        },
        {
          "output_type": "display_data",
          "data": {
            "image/png": "[encoded data removed]",
            "text/plain": [
              "<Figure size 432x288 with 1 Axes>"
            ]
          },
          "metadata": {
            "tags": [],
            "needs_background": "light"
          }
        }
      ]
    },
    {
      "cell_type": "markdown",
      "metadata": {
        "id": "bhnBJo2-yCyp",
        "colab_type": "text"
      },
      "source": [
        "Pensemos un poco acerca de lo que acabamos de hacer si cada vez que queramos saber a donde fue a para un vector primero tenemos que averiguar donde quedaron los vectores vaces para aplicar...\n",
        "`v = [x*i[0]+y*j[0], x*i[1]+y*j[1]]` ¿Eso no se te parece a una multiplicacion de una matriz-vector?\n",
        "\n",
        "Ahora te invito a ver las multiplicaciones de matrices desde el siguiente punto de vista. organizamos las coordenadas x de cada vector unitario en una fila de una matriz y las coordenadas y en otra fila"
      ]
    },
    {
      "cell_type": "code",
      "metadata": {
        "id": "33bHqJiR0XiT",
        "colab_type": "code",
        "colab": {
          "base_uri": "https://localhost:8080/",
          "height": 91
        },
        "outputId": "607bc774-eee4-4c22-871d-51f7b0006f59"
      },
      "source": [
        "i = [1, 0]\n",
        "j = [0, 1]\n",
        "matriz = np.array([[i[0], j[0]], [i[1], j[1]]])\n",
        "print('La primera columna son las coordenadas de i y la segunda columna son las coordenadas de j')\n",
        "print('')\n",
        "matriz"
      ],
      "execution_count": 176,
      "outputs": [
        {
          "output_type": "stream",
          "text": [
            "La primera columna son las coordenadas de i y la segunda columna son las coordenadas de j\n",
            "\n"
          ],
          "name": "stdout"
        },
        {
          "output_type": "execute_result",
          "data": {
            "text/plain": [
              "array([[1, 0],\n",
              "       [0, 1]])"
            ]
          },
          "metadata": {
            "tags": []
          },
          "execution_count": 176
        }
      ]
    },
    {
      "cell_type": "markdown",
      "metadata": {
        "id": "pfQm4RxI1Sbp",
        "colab_type": "text"
      },
      "source": [
        "Y si cambiamos ahora las coordenadas de i y j por las coordenadas de adonde fuerona parar estos vectores luego de la transformación"
      ]
    },
    {
      "cell_type": "code",
      "metadata": {
        "id": "naQcmXC81ikS",
        "colab_type": "code",
        "colab": {
          "base_uri": "https://localhost:8080/",
          "height": 91
        },
        "outputId": "76436368-fd0e-4703-bf26-a0db5dc437e7"
      },
      "source": [
        "i = [-1, 3]\n",
        "j = [1, 2]\n",
        "matriz = np.array([[i[0], j[0]], [i[1], j[1]]])\n",
        "print('La primera columna son las coordenadas de i y la segunda columna son las coordenadas de j')\n",
        "print('')\n",
        "matriz"
      ],
      "execution_count": 177,
      "outputs": [
        {
          "output_type": "stream",
          "text": [
            "La primera columna son las coordenadas de i y la segunda columna son las coordenadas de j\n",
            "\n"
          ],
          "name": "stdout"
        },
        {
          "output_type": "execute_result",
          "data": {
            "text/plain": [
              "array([[-1,  1],\n",
              "       [ 3,  2]])"
            ]
          },
          "metadata": {
            "tags": []
          },
          "execution_count": 177
        }
      ]
    },
    {
      "cell_type": "markdown",
      "metadata": {
        "id": "XsRK_U9R16g9",
        "colab_type": "text"
      },
      "source": [
        "Ahora tomamos un vector de dos numeros, y aplicamos una combinacin lineal `v = x(i)+y(i)` la diferencia es que como los vectores no tienen elementos en cero debemos sumar los componentes semejantes, es decir... "
      ]
    },
    {
      "cell_type": "code",
      "metadata": {
        "id": "gJz_L4g71srV",
        "colab_type": "code",
        "colab": {
          "base_uri": "https://localhost:8080/",
          "height": 109
        },
        "outputId": "d087adbe-6900-4d08-9567-1277b3070d5f"
      },
      "source": [
        "vec  = np.array([1, 2])\n",
        "vec_ = matriz@vec\n",
        "print('Calculo por formula de matrices')\n",
        "print(vec_)\n",
        "print('')\n",
        "print('Calculo combinacion lineal')\n",
        "[vec[0]*matriz[0][0] + vec[1]*matriz[0][1], vec[0]*matriz[1][0] + vec[1]*matriz[1][1]]"
      ],
      "execution_count": 185,
      "outputs": [
        {
          "output_type": "stream",
          "text": [
            "Calculo por formula de matrices\n",
            "[1 7]\n",
            "\n",
            "Calculo combinacion lineal\n"
          ],
          "name": "stdout"
        },
        {
          "output_type": "execute_result",
          "data": {
            "text/plain": [
              "[1, 7]"
            ]
          },
          "metadata": {
            "tags": []
          },
          "execution_count": 185
        }
      ]
    },
    {
      "cell_type": "markdown",
      "metadata": {
        "id": "g0jOJE734kcw",
        "colab_type": "text"
      },
      "source": [
        "La proxima vez que vayas a multiplicar vectores y matrices piensa en una transformación donde tienes que calcular a donde fue a parar el vector, èsto aplica para cualquier cantidad dimensiòn. "
      ]
    },
    {
      "cell_type": "markdown",
      "metadata": {
        "id": "G7xy7w4y4_4E",
        "colab_type": "text"
      },
      "source": [
        "Repaso: Para saber a donde fue a parar un vector luego de una transformación solo tienes que ubicar a donde fueron a parar los vectores unitarios, y construir una matriz donde la primera columna seràn las coordenadas de i y la segunda columna seràn las coordenadas de j... Luego multiplicas cada columna por su termino correspondiente en el vector, es decir, primera columna primera componente del vector y asi... como te tiene que quedar un vector entoncs sumas todos lis primeros terminos, todos los segundos terminos y asi.. veamos una imagen\n",
        "\n",
        "![](https://encrypted-tbn0.gstatic.com/images?q=tbn%3AANd9GcRE4dbr3vMp2mSHdH7rPWr4LPgFWQC7kvO_vQ&usqp=CAU)"
      ]
    },
    {
      "cell_type": "markdown",
      "metadata": {
        "id": "ClVhlTVb8nB5",
        "colab_type": "text"
      },
      "source": [
        "Un ejemplo mas divertido..."
      ]
    },
    {
      "cell_type": "code",
      "metadata": {
        "id": "m3myWSab8pQP",
        "colab_type": "code",
        "colab": {
          "base_uri": "https://localhost:8080/",
          "height": 35
        },
        "outputId": "7faa0ee6-31c5-437d-841e-13ba50d21d0b"
      },
      "source": [
        "#Generamos un conjunto de puntos que serviran de para simular un subespacio generado\n",
        "xvals = np.linspace(-4, 4, 9)\n",
        "yvals = np.linspace(-3, 3, 7)\n",
        "xygrid = np.column_stack([[x, y] for x in xvals for y in yvals])"
      ],
      "execution_count": 188,
      "outputs": [
        {
          "output_type": "execute_result",
          "data": {
            "text/plain": [
              "(2, 63)"
            ]
          },
          "metadata": {
            "tags": []
          },
          "execution_count": 188
        }
      ]
    },
    {
      "cell_type": "code",
      "metadata": {
        "id": "jCw3posj8-aA",
        "colab_type": "code",
        "colab": {
          "base_uri": "https://localhost:8080/",
          "height": 54
        },
        "outputId": "8119b0db-ad98-4d4b-82f8-89382c7567ef"
      },
      "source": [
        "#Ahora generamos la matriz de la ubicacion de i y j\n",
        "a = np.column_stack([[2, 1], [-1, 1]])\n",
        "print('Matriz de i y j:', a)\n",
        "#Aplicamos la combinacion lineal\n",
        "uvgrid = np.dot(a, xygrid)"
      ],
      "execution_count": 190,
      "outputs": [
        {
          "output_type": "stream",
          "text": [
            "Matriz de i y j: [[ 2 -1]\n",
            " [ 1  1]]\n"
          ],
          "name": "stdout"
        }
      ]
    },
    {
      "cell_type": "code",
      "metadata": {
        "id": "YQLWOSeT9hjc",
        "colab_type": "code",
        "colab": {}
      },
      "source": [
        "def colorizer(x, y):\n",
        "    \"\"\"\n",
        "    Map x-y coordinates to a rgb color\n",
        "    \"\"\"\n",
        "    r = min(1, 1-y/3)\n",
        "    g = min(1, 1+y/3)\n",
        "    b = 1/4 + x/16\n",
        "    return (r, g, b)"
      ],
      "execution_count": 191,
      "outputs": []
    },
    {
      "cell_type": "code",
      "metadata": {
        "id": "tNLwPlUP99Uh",
        "colab_type": "code",
        "colab": {
          "base_uri": "https://localhost:8080/",
          "height": 517
        },
        "outputId": "4e130414-292f-4b06-e8c1-c97e1e90be3e"
      },
      "source": [
        "#Mapear colores y puntos\n",
        "colors = list(map(colorizer, xygrid[0], xygrid[1]))\n",
        "\n",
        "#Plotear los puntos que simularan el subespacio generado\n",
        "plt.figure(figsize=(8, 8), facecolor=\"w\")\n",
        "plt.scatter(xygrid[0], xygrid[1], s=36, c=colors, edgecolor=\"none\")\n",
        "\n",
        "\n",
        "plt.grid(True)\n",
        "plt.axis(\"equal\")\n",
        "plt.title(\"Original grid in x-y space\")"
      ],
      "execution_count": 194,
      "outputs": [
        {
          "output_type": "execute_result",
          "data": {
            "text/plain": [
              "Text(0.5, 1.0, 'Original grid in x-y space')"
            ]
          },
          "metadata": {
            "tags": []
          },
          "execution_count": 194
        },
        {
          "output_type": "display_data",
          "data": {
            "image/png": "[encoded data removed]",
            "text/plain": [
              "<Figure size 576x576 with 1 Axes>"
            ]
          },
          "metadata": {
            "tags": []
          }
        }
      ]
    },
    {
      "cell_type": "code",
      "metadata": {
        "id": "swL_0Ske-HuA",
        "colab_type": "code",
        "colab": {
          "base_uri": "https://localhost:8080/",
          "height": 517
        },
        "outputId": "fc866ea6-0fe7-44c9-f0b7-853bd1e81352"
      },
      "source": [
        "#Plot ploteemos los vectores transformados\n",
        "plt.figure(figsize=(8, 8), facecolor=\"w\")\n",
        "x = plt.scatter(uvgrid[0], uvgrid[1], s=36, c=colors, edgecolor=\"none\")\n",
        "plt.grid(True)\n",
        "plt.axis(\"equal\")\n",
        "plt.title(\"Transformed grid in u-v space\")\n"
      ],
      "execution_count": 201,
      "outputs": [
        {
          "output_type": "execute_result",
          "data": {
            "text/plain": [
              "<matplotlib.collections.PathCollection at 0x7fa28281e470>"
            ]
          },
          "metadata": {
            "tags": []
          },
          "execution_count": 201
        },
        {
          "output_type": "display_data",
          "data": {
            "image/png": "[encoded data removed]",
            "text/plain": [
              "<Figure size 576x576 with 1 Axes>"
            ]
          },
          "metadata": {
            "tags": []
          }
        }
      ]
    },
    {
      "cell_type": "markdown",
      "metadata": {
        "id": "9MEu3znhGftG",
        "colab_type": "text"
      },
      "source": [
        "Es importante conocer estos conceptos ya que son la base del machine learning, y me parece que este es un metodo mediante el cual yo personalmente entiendo mucho mejor... Esto no es un tutorial, solo es la manera en la que yo aprendo, y tratar de explicar estos conceptos me ayuda a entenderls mejor.\n",
        "\n",
        "Referencias\n",
        "\n",
        "https://www.youtube.com/channel/UCYO_jab_esuFRV4b17AJtAw\n",
        "\n",
        "https://dododas.github.io/linear-algebra-with-python/"
      ]
    },
    {
      "cell_type": "code",
      "metadata": {
        "id": "ahsZIt68Hvh-",
        "colab_type": "code",
        "colab": {}
      },
      "source": [
        ""
      ],
      "execution_count": null,
      "outputs": []
    }
  ]
}